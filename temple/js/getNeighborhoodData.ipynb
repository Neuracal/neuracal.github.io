{
 "cells": [
  {
   "cell_type": "code",
   "execution_count": 4,
   "id": "ed7d0710",
   "metadata": {},
   "outputs": [
    {
     "name": "stdout",
     "output_type": "stream",
     "text": [
      "JSON文件已成功生成！保存位置：D:\\ooskiddleoo\\研究生\\2025北大数字人文可视化暑校\\自己做的资料\\neighthood-temple-count.json\n"
     ]
    }
   ],
   "source": [
    "import pandas as pd\n",
    "import json\n",
    "import os\n",
    "\n",
    "# 读取Excel文件\n",
    "filepath = r'D:\\ooskiddleoo\\研究生\\2025北大数字人文可视化暑校\\自己做的资料\\唐代各坊的寺庙种类数据.xlsx'\n",
    "df = pd.read_excel(filepath)\n",
    "\n",
    "# 提取需要的列并重命名\n",
    "result = df[['位置', '寺庙总数', '皇家寺庙数量', '舍宅为寺的数量', '僧寺数量', '尼寺数量']].copy()\n",
    "result.columns = ['name', 'total', 'royal', 'house', 'monk', 'nun']\n",
    "\n",
    "# 删除\"总和\"行（如果需要保留可以去掉这行）\n",
    "result = result[result['name'] != '总和']\n",
    "\n",
    "# 转换为JSON格式\n",
    "json_data = result.to_json(orient='records', force_ascii=False)\n",
    "\n",
    "# 美化JSON输出\n",
    "parsed = json.loads(json_data)\n",
    "pretty_json = json.dumps(parsed, indent=4, ensure_ascii=False)\n",
    "\n",
    "# 确保目录存在（如果使用相对路径）\n",
    "os.makedirs('./data', exist_ok=True)\n",
    "\n",
    "# 保存到文件（使用绝对路径或相对路径）\n",
    "output_path = r'D:\\ooskiddleoo\\研究生\\2025北大数字人文可视化暑校\\自己做的资料\\neighthood-temple-count.json'\n",
    "with open(output_path, 'w', encoding='utf-8') as f:\n",
    "    f.write(pretty_json)\n",
    "\n",
    "print(f\"JSON文件已成功生成！保存位置：{output_path}\")"
   ]
  }
 ],
 "metadata": {
  "kernelspec": {
   "display_name": "Python 3",
   "language": "python",
   "name": "python3"
  },
  "language_info": {
   "codemirror_mode": {
    "name": "ipython",
    "version": 3
   },
   "file_extension": ".py",
   "mimetype": "text/x-python",
   "name": "python",
   "nbconvert_exporter": "python",
   "pygments_lexer": "ipython3",
   "version": "3.9.12"
  }
 },
 "nbformat": 4,
 "nbformat_minor": 5
}
